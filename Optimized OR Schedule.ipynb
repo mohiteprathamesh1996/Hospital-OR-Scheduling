{
 "cells": [
  {
   "cell_type": "markdown",
   "metadata": {},
   "source": [
    "#### Load packages"
   ]
  },
  {
   "cell_type": "code",
   "execution_count": 1,
   "metadata": {},
   "outputs": [],
   "source": [
    "import pandas as pd\n",
    "import numpy as np\n",
    "import itertools\n",
    "from pulp import *\n",
    "\n",
    "from IPython.core.display import display, HTML\n",
    "\n",
    "def display_side_by_side(dfs:list, captions:list):\n",
    "    \"\"\"Display tables side by side to save vertical space\n",
    "    Input:\n",
    "        dfs: list of pandas.DataFrame\n",
    "        captions: list of table captions\n",
    "    \"\"\"\n",
    "    output = \"\"\n",
    "    combined = dict(zip(captions, dfs))\n",
    "    for caption, df in combined.items():\n",
    "        output += df.style.set_table_attributes(\"style='display:inline'\").set_caption(caption)._repr_html_()\n",
    "        output += \"\\xa0\\xa0\\xa0\"\n",
    "    display(HTML(output))\n",
    "\n",
    "\n",
    "import warnings\n",
    "warnings.filterwarnings(\"ignore\")"
   ]
  },
  {
   "cell_type": "markdown",
   "metadata": {},
   "source": [
    "#### Load data"
   ]
  },
  {
   "cell_type": "code",
   "execution_count": 2,
   "metadata": {},
   "outputs": [],
   "source": [
    "target_hours_per_week = pd.read_excel(\"OR Scheduling.xlsx\", sheet_name=\"Target Hours per Week\")\n",
    "target_hours_per_week.set_index([\"Department\"], inplace=True)\n",
    "\n",
    "\n",
    "teams_available_per_week = pd.read_excel(\"OR Scheduling.xlsx\", sheet_name=\"Available teams per week\")\n",
    "teams_available_per_week.set_index([\"Department\"], inplace=True)\n",
    "\n",
    "\n",
    "max_daily_OR_requirement = pd.read_excel(\"OR Scheduling.xlsx\", sheet_name=\"Max Daily OR requirements\")\n",
    "max_daily_OR_requirement.set_index([\"Department\"], inplace=True)\n",
    "\n",
    "\n",
    "weekly_OR_requirement = pd.read_excel(\"OR Scheduling.xlsx\", sheet_name=\"Weekly OR requirements\")\n",
    "weekly_OR_requirement.set_index([\"Department\"], inplace=True)"
   ]
  },
  {
   "cell_type": "code",
   "execution_count": 3,
   "metadata": {},
   "outputs": [
    {
     "data": {
      "text/html": [
       "<style  type=\"text/css\" >\n",
       "</style><table id=\"T_92a01c5f_4eab_11eb_8b5b_f8281985cd14\" style='display:inline'><caption>Target Hours Per Week</caption><thead>    <tr>        <th class=\"blank level0\" ></th>        <th class=\"col_heading level0 col0\" >Target_Hours</th>    </tr>    <tr>        <th class=\"index_name level0\" >Department</th>        <th class=\"blank\" ></th>    </tr></thead><tbody>\n",
       "                <tr>\n",
       "                        <th id=\"T_92a01c5f_4eab_11eb_8b5b_f8281985cd14level0_row0\" class=\"row_heading level0 row0\" >Gyneacology</th>\n",
       "                        <td id=\"T_92a01c5f_4eab_11eb_8b5b_f8281985cd14row0_col0\" class=\"data row0 col0\" >39.400000</td>\n",
       "            </tr>\n",
       "            <tr>\n",
       "                        <th id=\"T_92a01c5f_4eab_11eb_8b5b_f8281985cd14level0_row1\" class=\"row_heading level0 row1\" >Cardiology</th>\n",
       "                        <td id=\"T_92a01c5f_4eab_11eb_8b5b_f8281985cd14row1_col0\" class=\"data row1 col0\" >117.400000</td>\n",
       "            </tr>\n",
       "            <tr>\n",
       "                        <th id=\"T_92a01c5f_4eab_11eb_8b5b_f8281985cd14level0_row2\" class=\"row_heading level0 row2\" >Neurosurgery</th>\n",
       "                        <td id=\"T_92a01c5f_4eab_11eb_8b5b_f8281985cd14row2_col0\" class=\"data row2 col0\" >19.900000</td>\n",
       "            </tr>\n",
       "            <tr>\n",
       "                        <th id=\"T_92a01c5f_4eab_11eb_8b5b_f8281985cd14level0_row3\" class=\"row_heading level0 row3\" >Orthopaedics</th>\n",
       "                        <td id=\"T_92a01c5f_4eab_11eb_8b5b_f8281985cd14row3_col0\" class=\"data row3 col0\" >26.300000</td>\n",
       "            </tr>\n",
       "            <tr>\n",
       "                        <th id=\"T_92a01c5f_4eab_11eb_8b5b_f8281985cd14level0_row4\" class=\"row_heading level0 row4\" >General Surgery</th>\n",
       "                        <td id=\"T_92a01c5f_4eab_11eb_8b5b_f8281985cd14row4_col0\" class=\"data row4 col0\" >189.000000</td>\n",
       "            </tr>\n",
       "    </tbody></table>   <style  type=\"text/css\" >\n",
       "</style><table id=\"T_92a01c60_4eab_11eb_8540_f8281985cd14\" style='display:inline'><caption>Teams Available Per Week</caption><thead>    <tr>        <th class=\"blank level0\" ></th>        <th class=\"col_heading level0 col0\" >Monday</th>        <th class=\"col_heading level0 col1\" >Tuesday</th>        <th class=\"col_heading level0 col2\" >Wednesday</th>        <th class=\"col_heading level0 col3\" >Thursday</th>        <th class=\"col_heading level0 col4\" >Friday</th>    </tr>    <tr>        <th class=\"index_name level0\" >Department</th>        <th class=\"blank\" ></th>        <th class=\"blank\" ></th>        <th class=\"blank\" ></th>        <th class=\"blank\" ></th>        <th class=\"blank\" ></th>    </tr></thead><tbody>\n",
       "                <tr>\n",
       "                        <th id=\"T_92a01c60_4eab_11eb_8540_f8281985cd14level0_row0\" class=\"row_heading level0 row0\" >Gyneacology</th>\n",
       "                        <td id=\"T_92a01c60_4eab_11eb_8540_f8281985cd14row0_col0\" class=\"data row0 col0\" >2</td>\n",
       "                        <td id=\"T_92a01c60_4eab_11eb_8540_f8281985cd14row0_col1\" class=\"data row0 col1\" >2</td>\n",
       "                        <td id=\"T_92a01c60_4eab_11eb_8540_f8281985cd14row0_col2\" class=\"data row0 col2\" >2</td>\n",
       "                        <td id=\"T_92a01c60_4eab_11eb_8540_f8281985cd14row0_col3\" class=\"data row0 col3\" >2</td>\n",
       "                        <td id=\"T_92a01c60_4eab_11eb_8540_f8281985cd14row0_col4\" class=\"data row0 col4\" >2</td>\n",
       "            </tr>\n",
       "            <tr>\n",
       "                        <th id=\"T_92a01c60_4eab_11eb_8540_f8281985cd14level0_row1\" class=\"row_heading level0 row1\" >Cardiology</th>\n",
       "                        <td id=\"T_92a01c60_4eab_11eb_8540_f8281985cd14row1_col0\" class=\"data row1 col0\" >3</td>\n",
       "                        <td id=\"T_92a01c60_4eab_11eb_8540_f8281985cd14row1_col1\" class=\"data row1 col1\" >3</td>\n",
       "                        <td id=\"T_92a01c60_4eab_11eb_8540_f8281985cd14row1_col2\" class=\"data row1 col2\" >3</td>\n",
       "                        <td id=\"T_92a01c60_4eab_11eb_8540_f8281985cd14row1_col3\" class=\"data row1 col3\" >3</td>\n",
       "                        <td id=\"T_92a01c60_4eab_11eb_8540_f8281985cd14row1_col4\" class=\"data row1 col4\" >3</td>\n",
       "            </tr>\n",
       "            <tr>\n",
       "                        <th id=\"T_92a01c60_4eab_11eb_8540_f8281985cd14level0_row2\" class=\"row_heading level0 row2\" >Neurosurgery</th>\n",
       "                        <td id=\"T_92a01c60_4eab_11eb_8540_f8281985cd14row2_col0\" class=\"data row2 col0\" >1</td>\n",
       "                        <td id=\"T_92a01c60_4eab_11eb_8540_f8281985cd14row2_col1\" class=\"data row2 col1\" >1</td>\n",
       "                        <td id=\"T_92a01c60_4eab_11eb_8540_f8281985cd14row2_col2\" class=\"data row2 col2\" >1</td>\n",
       "                        <td id=\"T_92a01c60_4eab_11eb_8540_f8281985cd14row2_col3\" class=\"data row2 col3\" >1</td>\n",
       "                        <td id=\"T_92a01c60_4eab_11eb_8540_f8281985cd14row2_col4\" class=\"data row2 col4\" >1</td>\n",
       "            </tr>\n",
       "            <tr>\n",
       "                        <th id=\"T_92a01c60_4eab_11eb_8540_f8281985cd14level0_row3\" class=\"row_heading level0 row3\" >Orthopaedics</th>\n",
       "                        <td id=\"T_92a01c60_4eab_11eb_8540_f8281985cd14row3_col0\" class=\"data row3 col0\" >2</td>\n",
       "                        <td id=\"T_92a01c60_4eab_11eb_8540_f8281985cd14row3_col1\" class=\"data row3 col1\" >2</td>\n",
       "                        <td id=\"T_92a01c60_4eab_11eb_8540_f8281985cd14row3_col2\" class=\"data row3 col2\" >2</td>\n",
       "                        <td id=\"T_92a01c60_4eab_11eb_8540_f8281985cd14row3_col3\" class=\"data row3 col3\" >2</td>\n",
       "                        <td id=\"T_92a01c60_4eab_11eb_8540_f8281985cd14row3_col4\" class=\"data row3 col4\" >2</td>\n",
       "            </tr>\n",
       "            <tr>\n",
       "                        <th id=\"T_92a01c60_4eab_11eb_8540_f8281985cd14level0_row4\" class=\"row_heading level0 row4\" >General Surgery</th>\n",
       "                        <td id=\"T_92a01c60_4eab_11eb_8540_f8281985cd14row4_col0\" class=\"data row4 col0\" >6</td>\n",
       "                        <td id=\"T_92a01c60_4eab_11eb_8540_f8281985cd14row4_col1\" class=\"data row4 col1\" >6</td>\n",
       "                        <td id=\"T_92a01c60_4eab_11eb_8540_f8281985cd14row4_col2\" class=\"data row4 col2\" >6</td>\n",
       "                        <td id=\"T_92a01c60_4eab_11eb_8540_f8281985cd14row4_col3\" class=\"data row4 col3\" >6</td>\n",
       "                        <td id=\"T_92a01c60_4eab_11eb_8540_f8281985cd14row4_col4\" class=\"data row4 col4\" >6</td>\n",
       "            </tr>\n",
       "    </tbody></table>   <style  type=\"text/css\" >\n",
       "</style><table id=\"T_92a01c61_4eab_11eb_b138_f8281985cd14\" style='display:inline'><caption>Maximum Daily OR requirement</caption><thead>    <tr>        <th class=\"blank level0\" ></th>        <th class=\"col_heading level0 col0\" >Monday</th>        <th class=\"col_heading level0 col1\" >Tuesday</th>        <th class=\"col_heading level0 col2\" >Wednesday</th>        <th class=\"col_heading level0 col3\" >Thursday</th>        <th class=\"col_heading level0 col4\" >Friday</th>    </tr>    <tr>        <th class=\"index_name level0\" >Department</th>        <th class=\"blank\" ></th>        <th class=\"blank\" ></th>        <th class=\"blank\" ></th>        <th class=\"blank\" ></th>        <th class=\"blank\" ></th>    </tr></thead><tbody>\n",
       "                <tr>\n",
       "                        <th id=\"T_92a01c61_4eab_11eb_b138_f8281985cd14level0_row0\" class=\"row_heading level0 row0\" >Gyneacology</th>\n",
       "                        <td id=\"T_92a01c61_4eab_11eb_b138_f8281985cd14row0_col0\" class=\"data row0 col0\" >2</td>\n",
       "                        <td id=\"T_92a01c61_4eab_11eb_b138_f8281985cd14row0_col1\" class=\"data row0 col1\" >2</td>\n",
       "                        <td id=\"T_92a01c61_4eab_11eb_b138_f8281985cd14row0_col2\" class=\"data row0 col2\" >2</td>\n",
       "                        <td id=\"T_92a01c61_4eab_11eb_b138_f8281985cd14row0_col3\" class=\"data row0 col3\" >2</td>\n",
       "                        <td id=\"T_92a01c61_4eab_11eb_b138_f8281985cd14row0_col4\" class=\"data row0 col4\" >2</td>\n",
       "            </tr>\n",
       "            <tr>\n",
       "                        <th id=\"T_92a01c61_4eab_11eb_b138_f8281985cd14level0_row1\" class=\"row_heading level0 row1\" >Cardiology</th>\n",
       "                        <td id=\"T_92a01c61_4eab_11eb_b138_f8281985cd14row1_col0\" class=\"data row1 col0\" >3</td>\n",
       "                        <td id=\"T_92a01c61_4eab_11eb_b138_f8281985cd14row1_col1\" class=\"data row1 col1\" >3</td>\n",
       "                        <td id=\"T_92a01c61_4eab_11eb_b138_f8281985cd14row1_col2\" class=\"data row1 col2\" >3</td>\n",
       "                        <td id=\"T_92a01c61_4eab_11eb_b138_f8281985cd14row1_col3\" class=\"data row1 col3\" >3</td>\n",
       "                        <td id=\"T_92a01c61_4eab_11eb_b138_f8281985cd14row1_col4\" class=\"data row1 col4\" >3</td>\n",
       "            </tr>\n",
       "            <tr>\n",
       "                        <th id=\"T_92a01c61_4eab_11eb_b138_f8281985cd14level0_row2\" class=\"row_heading level0 row2\" >Neurosurgery</th>\n",
       "                        <td id=\"T_92a01c61_4eab_11eb_b138_f8281985cd14row2_col0\" class=\"data row2 col0\" >4</td>\n",
       "                        <td id=\"T_92a01c61_4eab_11eb_b138_f8281985cd14row2_col1\" class=\"data row2 col1\" >4</td>\n",
       "                        <td id=\"T_92a01c61_4eab_11eb_b138_f8281985cd14row2_col2\" class=\"data row2 col2\" >4</td>\n",
       "                        <td id=\"T_92a01c61_4eab_11eb_b138_f8281985cd14row2_col3\" class=\"data row2 col3\" >4</td>\n",
       "                        <td id=\"T_92a01c61_4eab_11eb_b138_f8281985cd14row2_col4\" class=\"data row2 col4\" >4</td>\n",
       "            </tr>\n",
       "            <tr>\n",
       "                        <th id=\"T_92a01c61_4eab_11eb_b138_f8281985cd14level0_row3\" class=\"row_heading level0 row3\" >Orthopaedics</th>\n",
       "                        <td id=\"T_92a01c61_4eab_11eb_b138_f8281985cd14row3_col0\" class=\"data row3 col0\" >1</td>\n",
       "                        <td id=\"T_92a01c61_4eab_11eb_b138_f8281985cd14row3_col1\" class=\"data row3 col1\" >1</td>\n",
       "                        <td id=\"T_92a01c61_4eab_11eb_b138_f8281985cd14row3_col2\" class=\"data row3 col2\" >1</td>\n",
       "                        <td id=\"T_92a01c61_4eab_11eb_b138_f8281985cd14row3_col3\" class=\"data row3 col3\" >1</td>\n",
       "                        <td id=\"T_92a01c61_4eab_11eb_b138_f8281985cd14row3_col4\" class=\"data row3 col4\" >1</td>\n",
       "            </tr>\n",
       "            <tr>\n",
       "                        <th id=\"T_92a01c61_4eab_11eb_b138_f8281985cd14level0_row4\" class=\"row_heading level0 row4\" >General Surgery</th>\n",
       "                        <td id=\"T_92a01c61_4eab_11eb_b138_f8281985cd14row4_col0\" class=\"data row4 col0\" >6</td>\n",
       "                        <td id=\"T_92a01c61_4eab_11eb_b138_f8281985cd14row4_col1\" class=\"data row4 col1\" >6</td>\n",
       "                        <td id=\"T_92a01c61_4eab_11eb_b138_f8281985cd14row4_col2\" class=\"data row4 col2\" >6</td>\n",
       "                        <td id=\"T_92a01c61_4eab_11eb_b138_f8281985cd14row4_col3\" class=\"data row4 col3\" >6</td>\n",
       "                        <td id=\"T_92a01c61_4eab_11eb_b138_f8281985cd14row4_col4\" class=\"data row4 col4\" >6</td>\n",
       "            </tr>\n",
       "    </tbody></table>   <style  type=\"text/css\" >\n",
       "</style><table id=\"T_92a01c62_4eab_11eb_abdc_f8281985cd14\" style='display:inline'><caption>Weekly_OR_requirement</caption><thead>    <tr>        <th class=\"blank level0\" ></th>        <th class=\"col_heading level0 col0\" >Minimum</th>        <th class=\"col_heading level0 col1\" >Maximum</th>    </tr>    <tr>        <th class=\"index_name level0\" >Department</th>        <th class=\"blank\" ></th>        <th class=\"blank\" ></th>    </tr></thead><tbody>\n",
       "                <tr>\n",
       "                        <th id=\"T_92a01c62_4eab_11eb_abdc_f8281985cd14level0_row0\" class=\"row_heading level0 row0\" >Gyneacology</th>\n",
       "                        <td id=\"T_92a01c62_4eab_11eb_abdc_f8281985cd14row0_col0\" class=\"data row0 col0\" >3</td>\n",
       "                        <td id=\"T_92a01c62_4eab_11eb_abdc_f8281985cd14row0_col1\" class=\"data row0 col1\" >6</td>\n",
       "            </tr>\n",
       "            <tr>\n",
       "                        <th id=\"T_92a01c62_4eab_11eb_abdc_f8281985cd14level0_row1\" class=\"row_heading level0 row1\" >Cardiology</th>\n",
       "                        <td id=\"T_92a01c62_4eab_11eb_abdc_f8281985cd14row1_col0\" class=\"data row1 col0\" >12</td>\n",
       "                        <td id=\"T_92a01c62_4eab_11eb_abdc_f8281985cd14row1_col1\" class=\"data row1 col1\" >18</td>\n",
       "            </tr>\n",
       "            <tr>\n",
       "                        <th id=\"T_92a01c62_4eab_11eb_abdc_f8281985cd14level0_row2\" class=\"row_heading level0 row2\" >Neurosurgery</th>\n",
       "                        <td id=\"T_92a01c62_4eab_11eb_abdc_f8281985cd14row2_col0\" class=\"data row2 col0\" >2</td>\n",
       "                        <td id=\"T_92a01c62_4eab_11eb_abdc_f8281985cd14row2_col1\" class=\"data row2 col1\" >3</td>\n",
       "            </tr>\n",
       "            <tr>\n",
       "                        <th id=\"T_92a01c62_4eab_11eb_abdc_f8281985cd14level0_row3\" class=\"row_heading level0 row3\" >Orthopaedics</th>\n",
       "                        <td id=\"T_92a01c62_4eab_11eb_abdc_f8281985cd14row3_col0\" class=\"data row3 col0\" >2</td>\n",
       "                        <td id=\"T_92a01c62_4eab_11eb_abdc_f8281985cd14row3_col1\" class=\"data row3 col1\" >4</td>\n",
       "            </tr>\n",
       "            <tr>\n",
       "                        <th id=\"T_92a01c62_4eab_11eb_abdc_f8281985cd14level0_row4\" class=\"row_heading level0 row4\" >General Surgery</th>\n",
       "                        <td id=\"T_92a01c62_4eab_11eb_abdc_f8281985cd14row4_col0\" class=\"data row4 col0\" >18</td>\n",
       "                        <td id=\"T_92a01c62_4eab_11eb_abdc_f8281985cd14row4_col1\" class=\"data row4 col1\" >25</td>\n",
       "            </tr>\n",
       "    </tbody></table>   "
      ],
      "text/plain": [
       "<IPython.core.display.HTML object>"
      ]
     },
     "metadata": {},
     "output_type": "display_data"
    }
   ],
   "source": [
    "display_side_by_side(\n",
    "    dfs=[target_hours_per_week, teams_available_per_week, max_daily_OR_requirement, weekly_OR_requirement], \n",
    "    captions=[\"Target Hours Per Week\",\n",
    "              \"Teams Available Per Week\", \n",
    "              \"Maximum Daily OR requirement\",\n",
    "              \"Weekly_OR_requirement\"])"
   ]
  },
  {
   "cell_type": "markdown",
   "metadata": {},
   "source": [
    "#### Decision variables"
   ]
  },
  {
   "cell_type": "code",
   "execution_count": 4,
   "metadata": {},
   "outputs": [],
   "source": [
    "teams = teams_available_per_week.index.to_list()\n",
    "day_of_week = teams_available_per_week.columns.to_list()\n",
    "\n",
    "var_dict = LpVariable.dicts(\"Allotment\",\n",
    "                            [(dept, day) for dept in teams for day in day_of_week], \n",
    "                            lowBound = 0, \n",
    "                            cat = \"Integer\")"
   ]
  },
  {
   "cell_type": "markdown",
   "metadata": {},
   "source": [
    "#### Model initialization"
   ]
  },
  {
   "cell_type": "code",
   "execution_count": 5,
   "metadata": {},
   "outputs": [],
   "source": [
    "model = LpProblem(\"Optimized Allocation of Hospital Operating Rooms\", LpMaximize)"
   ]
  },
  {
   "cell_type": "markdown",
   "metadata": {},
   "source": [
    "#### Objective function"
   ]
  },
  {
   "cell_type": "code",
   "execution_count": 6,
   "metadata": {},
   "outputs": [],
   "source": [
    "model += lpSum([8*var_dict[(team,days)]/target_hours_per_week.loc[team, \"Target_Hours\"]\\\n",
    "                for team in teams for days in day_of_week])"
   ]
  },
  {
   "cell_type": "markdown",
   "metadata": {},
   "source": [
    "#### Constraints"
   ]
  },
  {
   "cell_type": "code",
   "execution_count": 7,
   "metadata": {},
   "outputs": [],
   "source": [
    "#1 At most 10 ORs can be assigned per day\n",
    "for day in day_of_week:\n",
    "    model += lpSum([var_dict[(team, day)] for team in teams]) <= 10\n",
    "\n",
    "\n",
    "\n",
    "#2 The number of ORs allocaed to a department on that day cannot exceed the number of surgery teams available that day\n",
    "for team in teams:\n",
    "    for day in day_of_week:\n",
    "        model += var_dict[(team, day)] <= teams_available_per_week.loc[team, day]\n",
    "\n",
    "        \n",
    "    \n",
    "#3 Meet daily minimums and maximums of each department\n",
    "for team in teams:\n",
    "    for day in day_of_week:\n",
    "        model += var_dict[(team, day)] <= max_daily_OR_requirement.loc[team, day]\n",
    "\n",
    "        \n",
    "        \n",
    "#4 Meet weekly minimums and maximums of each department\n",
    "for team in teams:\n",
    "    model += lpSum([var_dict[(team, day)] for day in day_of_week]) >= weekly_OR_requirement.loc[team, \"Minimum\"]\n",
    "    model += lpSum([var_dict[(team, day)] for day in day_of_week]) <= weekly_OR_requirement.loc[team, \"Maximum\"]"
   ]
  },
  {
   "cell_type": "markdown",
   "metadata": {},
   "source": [
    "#### Optimal Solution"
   ]
  },
  {
   "cell_type": "code",
   "execution_count": 8,
   "metadata": {},
   "outputs": [],
   "source": [
    "model.solve()\n",
    "\n",
    "if LpStatus[model.status]==\"Optimal\":\n",
    "    optimal_soln = pd.DataFrame([(v.name, int(v.varValue)) for v in model.variables() if v.varValue!=0],\n",
    "                                columns=[\"Decisions\", \"# ORs Allocated\"])"
   ]
  },
  {
   "cell_type": "markdown",
   "metadata": {},
   "source": [
    "#### Display results"
   ]
  },
  {
   "cell_type": "code",
   "execution_count": 9,
   "metadata": {},
   "outputs": [
    {
     "data": {
      "text/html": [
       "<style  type=\"text/css\" >\n",
       "</style><table id=\"T_932e9b19_4eab_11eb_85dc_f8281985cd14\" style='display:inline'><caption>Operating Room Schedule for Monday</caption><thead>    <tr>        <th class=\"blank level0\" ></th>        <th class=\"col_heading level0 col0\" >Decisions</th>        <th class=\"col_heading level0 col1\" ># ORs Allocated</th>    </tr></thead><tbody>\n",
       "                <tr>\n",
       "                        <th id=\"T_932e9b19_4eab_11eb_85dc_f8281985cd14level0_row0\" class=\"row_heading level0 row0\" >0</th>\n",
       "                        <td id=\"T_932e9b19_4eab_11eb_85dc_f8281985cd14row0_col0\" class=\"data row0 col0\" >Allotment_('Cardiology',_'Monday')</td>\n",
       "                        <td id=\"T_932e9b19_4eab_11eb_85dc_f8281985cd14row0_col1\" class=\"data row0 col1\" >3</td>\n",
       "            </tr>\n",
       "            <tr>\n",
       "                        <th id=\"T_932e9b19_4eab_11eb_85dc_f8281985cd14level0_row1\" class=\"row_heading level0 row1\" >1</th>\n",
       "                        <td id=\"T_932e9b19_4eab_11eb_85dc_f8281985cd14row1_col0\" class=\"data row1 col0\" >Allotment_('General_Surgery',_'Monday')</td>\n",
       "                        <td id=\"T_932e9b19_4eab_11eb_85dc_f8281985cd14row1_col1\" class=\"data row1 col1\" >5</td>\n",
       "            </tr>\n",
       "            <tr>\n",
       "                        <th id=\"T_932e9b19_4eab_11eb_85dc_f8281985cd14level0_row2\" class=\"row_heading level0 row2\" >2</th>\n",
       "                        <td id=\"T_932e9b19_4eab_11eb_85dc_f8281985cd14row2_col0\" class=\"data row2 col0\" >Allotment_('Neurosurgery',_'Monday')</td>\n",
       "                        <td id=\"T_932e9b19_4eab_11eb_85dc_f8281985cd14row2_col1\" class=\"data row2 col1\" >1</td>\n",
       "            </tr>\n",
       "            <tr>\n",
       "                        <th id=\"T_932e9b19_4eab_11eb_85dc_f8281985cd14level0_row3\" class=\"row_heading level0 row3\" >3</th>\n",
       "                        <td id=\"T_932e9b19_4eab_11eb_85dc_f8281985cd14row3_col0\" class=\"data row3 col0\" >Allotment_('Orthopaedics',_'Monday')</td>\n",
       "                        <td id=\"T_932e9b19_4eab_11eb_85dc_f8281985cd14row3_col1\" class=\"data row3 col1\" >1</td>\n",
       "            </tr>\n",
       "    </tbody></table>   <style  type=\"text/css\" >\n",
       "</style><table id=\"T_932ec20f_4eab_11eb_bb6a_f8281985cd14\" style='display:inline'><caption>Operating Room Schedule for Tuesday</caption><thead>    <tr>        <th class=\"blank level0\" ></th>        <th class=\"col_heading level0 col0\" >Decisions</th>        <th class=\"col_heading level0 col1\" ># ORs Allocated</th>    </tr></thead><tbody>\n",
       "                <tr>\n",
       "                        <th id=\"T_932ec20f_4eab_11eb_bb6a_f8281985cd14level0_row0\" class=\"row_heading level0 row0\" >0</th>\n",
       "                        <td id=\"T_932ec20f_4eab_11eb_bb6a_f8281985cd14row0_col0\" class=\"data row0 col0\" >Allotment_('Cardiology',_'Tuesday')</td>\n",
       "                        <td id=\"T_932ec20f_4eab_11eb_bb6a_f8281985cd14row0_col1\" class=\"data row0 col1\" >3</td>\n",
       "            </tr>\n",
       "            <tr>\n",
       "                        <th id=\"T_932ec20f_4eab_11eb_bb6a_f8281985cd14level0_row1\" class=\"row_heading level0 row1\" >1</th>\n",
       "                        <td id=\"T_932ec20f_4eab_11eb_bb6a_f8281985cd14row1_col0\" class=\"data row1 col0\" >Allotment_('General_Surgery',_'Tuesday')</td>\n",
       "                        <td id=\"T_932ec20f_4eab_11eb_bb6a_f8281985cd14row1_col1\" class=\"data row1 col1\" >3</td>\n",
       "            </tr>\n",
       "            <tr>\n",
       "                        <th id=\"T_932ec20f_4eab_11eb_bb6a_f8281985cd14level0_row2\" class=\"row_heading level0 row2\" >2</th>\n",
       "                        <td id=\"T_932ec20f_4eab_11eb_bb6a_f8281985cd14row2_col0\" class=\"data row2 col0\" >Allotment_('Gyneacology',_'Tuesday')</td>\n",
       "                        <td id=\"T_932ec20f_4eab_11eb_bb6a_f8281985cd14row2_col1\" class=\"data row2 col1\" >2</td>\n",
       "            </tr>\n",
       "            <tr>\n",
       "                        <th id=\"T_932ec20f_4eab_11eb_bb6a_f8281985cd14level0_row3\" class=\"row_heading level0 row3\" >3</th>\n",
       "                        <td id=\"T_932ec20f_4eab_11eb_bb6a_f8281985cd14row3_col0\" class=\"data row3 col0\" >Allotment_('Neurosurgery',_'Tuesday')</td>\n",
       "                        <td id=\"T_932ec20f_4eab_11eb_bb6a_f8281985cd14row3_col1\" class=\"data row3 col1\" >1</td>\n",
       "            </tr>\n",
       "            <tr>\n",
       "                        <th id=\"T_932ec20f_4eab_11eb_bb6a_f8281985cd14level0_row4\" class=\"row_heading level0 row4\" >4</th>\n",
       "                        <td id=\"T_932ec20f_4eab_11eb_bb6a_f8281985cd14row4_col0\" class=\"data row4 col0\" >Allotment_('Orthopaedics',_'Tuesday')</td>\n",
       "                        <td id=\"T_932ec20f_4eab_11eb_bb6a_f8281985cd14row4_col1\" class=\"data row4 col1\" >1</td>\n",
       "            </tr>\n",
       "    </tbody></table>   <style  type=\"text/css\" >\n",
       "</style><table id=\"T_932ee902_4eab_11eb_97e7_f8281985cd14\" style='display:inline'><caption>Operating Room Schedule for Wednesday</caption><thead>    <tr>        <th class=\"blank level0\" ></th>        <th class=\"col_heading level0 col0\" >Decisions</th>        <th class=\"col_heading level0 col1\" ># ORs Allocated</th>    </tr></thead><tbody>\n",
       "                <tr>\n",
       "                        <th id=\"T_932ee902_4eab_11eb_97e7_f8281985cd14level0_row0\" class=\"row_heading level0 row0\" >0</th>\n",
       "                        <td id=\"T_932ee902_4eab_11eb_97e7_f8281985cd14row0_col0\" class=\"data row0 col0\" >Allotment_('Cardiology',_'Wednesday')</td>\n",
       "                        <td id=\"T_932ee902_4eab_11eb_97e7_f8281985cd14row0_col1\" class=\"data row0 col1\" >3</td>\n",
       "            </tr>\n",
       "            <tr>\n",
       "                        <th id=\"T_932ee902_4eab_11eb_97e7_f8281985cd14level0_row1\" class=\"row_heading level0 row1\" >1</th>\n",
       "                        <td id=\"T_932ee902_4eab_11eb_97e7_f8281985cd14row1_col0\" class=\"data row1 col0\" >Allotment_('General_Surgery',_'Wednesday')</td>\n",
       "                        <td id=\"T_932ee902_4eab_11eb_97e7_f8281985cd14row1_col1\" class=\"data row1 col1\" >4</td>\n",
       "            </tr>\n",
       "            <tr>\n",
       "                        <th id=\"T_932ee902_4eab_11eb_97e7_f8281985cd14level0_row2\" class=\"row_heading level0 row2\" >2</th>\n",
       "                        <td id=\"T_932ee902_4eab_11eb_97e7_f8281985cd14row2_col0\" class=\"data row2 col0\" >Allotment_('Gyneacology',_'Wednesday')</td>\n",
       "                        <td id=\"T_932ee902_4eab_11eb_97e7_f8281985cd14row2_col1\" class=\"data row2 col1\" >2</td>\n",
       "            </tr>\n",
       "            <tr>\n",
       "                        <th id=\"T_932ee902_4eab_11eb_97e7_f8281985cd14level0_row3\" class=\"row_heading level0 row3\" >3</th>\n",
       "                        <td id=\"T_932ee902_4eab_11eb_97e7_f8281985cd14row3_col0\" class=\"data row3 col0\" >Allotment_('Orthopaedics',_'Wednesday')</td>\n",
       "                        <td id=\"T_932ee902_4eab_11eb_97e7_f8281985cd14row3_col1\" class=\"data row3 col1\" >1</td>\n",
       "            </tr>\n",
       "    </tbody></table>   <style  type=\"text/css\" >\n",
       "</style><table id=\"T_932ee903_4eab_11eb_aeb9_f8281985cd14\" style='display:inline'><caption>Operating Room Schedule for Thursday</caption><thead>    <tr>        <th class=\"blank level0\" ></th>        <th class=\"col_heading level0 col0\" >Decisions</th>        <th class=\"col_heading level0 col1\" ># ORs Allocated</th>    </tr></thead><tbody>\n",
       "                <tr>\n",
       "                        <th id=\"T_932ee903_4eab_11eb_aeb9_f8281985cd14level0_row0\" class=\"row_heading level0 row0\" >0</th>\n",
       "                        <td id=\"T_932ee903_4eab_11eb_aeb9_f8281985cd14row0_col0\" class=\"data row0 col0\" >Allotment_('Cardiology',_'Thursday')</td>\n",
       "                        <td id=\"T_932ee903_4eab_11eb_aeb9_f8281985cd14row0_col1\" class=\"data row0 col1\" >3</td>\n",
       "            </tr>\n",
       "            <tr>\n",
       "                        <th id=\"T_932ee903_4eab_11eb_aeb9_f8281985cd14level0_row1\" class=\"row_heading level0 row1\" >1</th>\n",
       "                        <td id=\"T_932ee903_4eab_11eb_aeb9_f8281985cd14row1_col0\" class=\"data row1 col0\" >Allotment_('General_Surgery',_'Thursday')</td>\n",
       "                        <td id=\"T_932ee903_4eab_11eb_aeb9_f8281985cd14row1_col1\" class=\"data row1 col1\" >5</td>\n",
       "            </tr>\n",
       "            <tr>\n",
       "                        <th id=\"T_932ee903_4eab_11eb_aeb9_f8281985cd14level0_row2\" class=\"row_heading level0 row2\" >2</th>\n",
       "                        <td id=\"T_932ee903_4eab_11eb_aeb9_f8281985cd14row2_col0\" class=\"data row2 col0\" >Allotment_('Gyneacology',_'Thursday')</td>\n",
       "                        <td id=\"T_932ee903_4eab_11eb_aeb9_f8281985cd14row2_col1\" class=\"data row2 col1\" >2</td>\n",
       "            </tr>\n",
       "    </tbody></table>   <style  type=\"text/css\" >\n",
       "</style><table id=\"T_932f0ff7_4eab_11eb_9f19_f8281985cd14\" style='display:inline'><caption>Operating Room Schedule for Friday</caption><thead>    <tr>        <th class=\"blank level0\" ></th>        <th class=\"col_heading level0 col0\" >Decisions</th>        <th class=\"col_heading level0 col1\" ># ORs Allocated</th>    </tr></thead><tbody>\n",
       "                <tr>\n",
       "                        <th id=\"T_932f0ff7_4eab_11eb_9f19_f8281985cd14level0_row0\" class=\"row_heading level0 row0\" >0</th>\n",
       "                        <td id=\"T_932f0ff7_4eab_11eb_9f19_f8281985cd14row0_col0\" class=\"data row0 col0\" >Allotment_('Cardiology',_'Friday')</td>\n",
       "                        <td id=\"T_932f0ff7_4eab_11eb_9f19_f8281985cd14row0_col1\" class=\"data row0 col1\" >3</td>\n",
       "            </tr>\n",
       "            <tr>\n",
       "                        <th id=\"T_932f0ff7_4eab_11eb_9f19_f8281985cd14level0_row1\" class=\"row_heading level0 row1\" >1</th>\n",
       "                        <td id=\"T_932f0ff7_4eab_11eb_9f19_f8281985cd14row1_col0\" class=\"data row1 col0\" >Allotment_('General_Surgery',_'Friday')</td>\n",
       "                        <td id=\"T_932f0ff7_4eab_11eb_9f19_f8281985cd14row1_col1\" class=\"data row1 col1\" >5</td>\n",
       "            </tr>\n",
       "            <tr>\n",
       "                        <th id=\"T_932f0ff7_4eab_11eb_9f19_f8281985cd14level0_row2\" class=\"row_heading level0 row2\" >2</th>\n",
       "                        <td id=\"T_932f0ff7_4eab_11eb_9f19_f8281985cd14row2_col0\" class=\"data row2 col0\" >Allotment_('Neurosurgery',_'Friday')</td>\n",
       "                        <td id=\"T_932f0ff7_4eab_11eb_9f19_f8281985cd14row2_col1\" class=\"data row2 col1\" >1</td>\n",
       "            </tr>\n",
       "            <tr>\n",
       "                        <th id=\"T_932f0ff7_4eab_11eb_9f19_f8281985cd14level0_row3\" class=\"row_heading level0 row3\" >3</th>\n",
       "                        <td id=\"T_932f0ff7_4eab_11eb_9f19_f8281985cd14row3_col0\" class=\"data row3 col0\" >Allotment_('Orthopaedics',_'Friday')</td>\n",
       "                        <td id=\"T_932f0ff7_4eab_11eb_9f19_f8281985cd14row3_col1\" class=\"data row3 col1\" >1</td>\n",
       "            </tr>\n",
       "    </tbody></table>   "
      ],
      "text/plain": [
       "<IPython.core.display.HTML object>"
      ]
     },
     "metadata": {},
     "output_type": "display_data"
    }
   ],
   "source": [
    "display_side_by_side(dfs = [optimal_soln[optimal_soln[\"Decisions\"].str.contains(d)].reset_index(drop=True)\\\n",
    "                            for d in day_of_week],\n",
    "                     captions = [\"Operating Room Schedule for \"+i for i in day_of_week])"
   ]
  },
  {
   "cell_type": "code",
   "execution_count": null,
   "metadata": {},
   "outputs": [],
   "source": []
  },
  {
   "cell_type": "code",
   "execution_count": null,
   "metadata": {},
   "outputs": [],
   "source": []
  }
 ],
 "metadata": {
  "kernelspec": {
   "display_name": "Python 3",
   "language": "python",
   "name": "python3"
  },
  "language_info": {
   "codemirror_mode": {
    "name": "ipython",
    "version": 3
   },
   "file_extension": ".py",
   "mimetype": "text/x-python",
   "name": "python",
   "nbconvert_exporter": "python",
   "pygments_lexer": "ipython3",
   "version": "3.8.3"
  }
 },
 "nbformat": 4,
 "nbformat_minor": 4
}
